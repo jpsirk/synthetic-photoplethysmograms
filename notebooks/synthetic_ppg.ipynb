{
 "cells": [
  {
   "attachments": {},
   "cell_type": "markdown",
   "metadata": {},
   "source": [
    "This notebook demonstrates how to generate synthetic PPG signals."
   ]
  },
  {
   "cell_type": "code",
   "execution_count": null,
   "metadata": {},
   "outputs": [],
   "source": [
    "%load_ext autoreload\n",
    "%autoreload 2\n",
    "%matplotlib widget\n",
    "\n",
    "import os\n",
    "import numpy as np\n",
    "import matplotlib.pyplot as plt\n",
    "from scipy import signal\n",
    "\n",
    "import sys\n",
    "sys.path.append('../')\n",
    "from src import synthetic_ppg, model_parameters, utils\n",
    "\n",
    "plt.style.use('./article.mplstyle')"
   ]
  },
  {
   "cell_type": "markdown",
   "metadata": {},
   "source": [
    "Generate a large number of random PPG signals."
   ]
  },
  {
   "cell_type": "code",
   "execution_count": null,
   "metadata": {},
   "outputs": [],
   "source": [
    "# Output folder and filename.\n",
    "output_folder = '../data'\n",
    "filename = 'synthetic_ppg.npy'"
   ]
  },
  {
   "cell_type": "code",
   "execution_count": null,
   "metadata": {},
   "outputs": [],
   "source": [
    "# Default model parameters.\n",
    "model_params = model_parameters.ModelParameters()\n",
    "model_params.n = 100 # Demonstrate with a small number of signals.\n",
    "\n",
    "synts, labels_feet, labels_peaks, noises = \\\n",
    "    synthetic_ppg.gen_rand_ppg_signals_parallel(model_params)\n",
    "\n",
    "# Generate realistic noisy signals.\n",
    "ppgs_raw = synts + noises\n",
    "\n",
    "# Filter and normalize the signals.\n",
    "ppgs = np.zeros(ppgs_raw.shape)\n",
    "for i in range(len(ppgs)):\n",
    "    ppgs[i] = utils.min_max_normalize(signal.sosfiltfilt(model_params.sos, ppgs_raw[i]), -1, 1)"
   ]
  },
  {
   "cell_type": "code",
   "execution_count": null,
   "metadata": {},
   "outputs": [],
   "source": [
    "def fix_feet_labels(s, labels, label_width, w):\n",
    "    \"\"\"\n",
    "    Fix pulse waveform feet labels.\n",
    "    \"\"\"\n",
    "    label_ones = np.argwhere(labels == 1.0).flatten()\n",
    "    label_ones_idxs = np.argwhere(np.diff(label_ones) > 1).flatten() + 1\n",
    "    label_ones_idxs = np.insert(label_ones_idxs, 0, 0)\n",
    "    chr_points = label_ones[label_ones_idxs]\n",
    "\n",
    "    labels_fixed = np.zeros(len(labels))\n",
    "    for c in chr_points:\n",
    "        s_i = max(0, c - w)\n",
    "        s_e = min(len(s), c + w + label_width)\n",
    "        loc_mins = signal.argrelmin(s[s_i:s_e])[0] + s_i\n",
    "        if len(loc_mins) == 1:\n",
    "            labels_fixed[loc_mins[0] - label_width // 2:loc_mins[0] + label_width // 2 + 1] = 1\n",
    "        elif len(loc_mins) > 1:\n",
    "            labels_fixed[loc_mins[-1] - label_width // 2:loc_mins[-1] + label_width // 2 + 1] = 1\n",
    "        else:\n",
    "            # Keep the original location as there is no idea of a better one.\n",
    "            labels_fixed[c - label_width // 2:c + label_width // 2 + 1] = 1\n",
    "\n",
    "    return labels_fixed\n",
    "\n",
    "# The labels might not be accurate anymore due to addedd noise\n",
    "# and filtering so we try to fix them.\n",
    "labels_feet_fixed = np.zeros(ppgs.shape)\n",
    "for i in range(len(ppgs)):\n",
    "    labels_feet_fixed[i] = fix_feet_labels(ppgs[i], labels_feet[i], model_params.label_width, 9)\n",
    "\n",
    "def create_labels(labels, label_width):\n",
    "    \"\"\"\n",
    "    Creates new label array with a given number of ones\n",
    "    marking a foot.\n",
    "    \"\"\"\n",
    "    labels_new = np.zeros(labels.shape)\n",
    "    for lf, lf_new in zip(labels, labels_new):\n",
    "        for idx in np.where(lf == 1)[0]:\n",
    "            s_idx = max(0, idx - label_width // 2)\n",
    "            e_idx = min(len(lf), idx + label_width // 2 + 1)\n",
    "            lf_new[s_idx:e_idx] = 1.0\n",
    "    \n",
    "    return labels_new\n",
    "\n",
    "# Create label arrays with 5 ones marking a foot.\n",
    "labels = create_labels(labels_feet, 5)\n",
    "labels_fixed = create_labels(labels_feet_fixed, 5)\n",
    "\n",
    "# Save the generated data.\n",
    "data = np.array([synts, ppgs_raw, ppgs, labels, labels_fixed, noises, model_params], dtype=object)\n",
    "if not os.path.isdir(output_folder):\n",
    "        os.mkdir(output_folder)\n",
    "with open(f'{output_folder}/{filename}', 'wb') as f:\n",
    "    np.save(f, data, allow_pickle=True)"
   ]
  },
  {
   "attachments": {},
   "cell_type": "markdown",
   "metadata": {},
   "source": [
    "Plot a random signal."
   ]
  },
  {
   "cell_type": "code",
   "execution_count": null,
   "metadata": {},
   "outputs": [],
   "source": [
    "synts, ppgs_raw, ppgs, labels, labels_fixed, noises, model_params = np.load(f'{output_folder}/{filename}', allow_pickle=True)"
   ]
  },
  {
   "cell_type": "code",
   "execution_count": null,
   "metadata": {},
   "outputs": [],
   "source": [
    "idx = np.random.randint(0, len(synts))\n",
    "\n",
    "fig, axes = plt.subplots(3, 1, sharex=True)\n",
    "fig.set_size_inches(6.5 / 2.54, 9 / 2.54)\n",
    "\n",
    "axes[0].plot(synts[idx], linewidth=0.75)\n",
    "axes[0].plot(labels[idx], c='tab:orange', linewidth=0.75)\n",
    "axes[1].plot(noises[idx], linewidth=0.75)\n",
    "axes[2].plot(utils.min_max_normalize(synts[idx] + noises[idx], -1, 1), linewidth=0.75)\n",
    "\n",
    "title_pad = 0\n",
    "axes[0].set_title('Clean PPG signal with label', \n",
    "    pad=title_pad)\n",
    "axes[1].set_title('Noise', pad=title_pad)\n",
    "axes[2].set_title('Realistic PPG signal', pad=title_pad)\n",
    "\n",
    "axes[-1].set_xlabel('Sample')\n",
    "\n",
    "for i in range(3):\n",
    "    axes[i].spines[['right', 'top']].set_visible(False)\n",
    "\n",
    "fig.tight_layout()"
   ]
  },
  {
   "attachments": {},
   "cell_type": "markdown",
   "metadata": {},
   "source": [
    "Create longer example signals."
   ]
  },
  {
   "cell_type": "code",
   "execution_count": null,
   "metadata": {},
   "outputs": [],
   "source": [
    "# Create one synthetic signal. We will use only the clean signal, i.e. res_example[0].\n",
    "model_params_example = model_parameters.ModelParameters()\n",
    "model_params_example.n = 1\n",
    "model_params_example.s_len = 2000\n",
    "model_params_example.n_pulse_widths = 160\n",
    "res_example = synthetic_ppg.gen_rand_ppg_signals(model_params_example)\n",
    "# Create an array of timestamps [seconds].\n",
    "ts_s = np.arange(model_params_example.s_len) / model_params_example.fs\n",
    "\n",
    "# Create the noise signals with the same random seed to guarantee similar\n",
    "# noise PSD sampling.\n",
    "np.random.seed(0)\n",
    "noises_example = np.zeros((3, model_params_example.s_len))\n",
    "for i in range(3):\n",
    "    noises_example[i], _, _ = synthetic_ppg.psd_to_time(model_params_example.s_len, \n",
    "                                model_params_example.fs, np.load(model_params_example.psd_interpolator_filenames[i], \n",
    "                                allow_pickle=True)[()])\n",
    "\n",
    "# Scale the noises relative to the noise with the largest amplitude.\n",
    "noises_amps = [np.max(s_noise) - np.min(s_noise) for s_noise in noises_example]\n",
    "signals_example = np.zeros((4, model_params_example.s_len))\n",
    "signals_example[0] = res_example[0][0]\n",
    "for i in range(3):\n",
    "    noises_example[i] = utils.min_max_normalize(noises_example[i], 0, noises_amps[i] / np.max(noises_amps))\n",
    "    signals_example[i + 1] = res_example[0][0] + noises_example[i]\n",
    "\n",
    "# Feet and peaks locations.\n",
    "feet = np.argwhere(res_example[1][0]).flatten()\n",
    "peaks = np.argwhere(res_example[2][0]).flatten()\n",
    "\n",
    "# Plot the signals together with the feet and peaks.\n",
    "titles = ['Clean', 'Sitting', 'Walking', 'Hand movement']\n",
    "fig, axes = plt.subplots(4, 1, sharex=True)\n",
    "fig.set_size_inches(12 / 2.54, 9 / 2.54)\n",
    "for i in range(4):\n",
    "    axes[i].plot(ts_s, signals_example[i], linewidth=1)\n",
    "    axes[i].plot(ts_s[feet], signals_example[i][feet], marker='o', markeredgecolor='tab:red', markerfacecolor='none', linestyle='none')\n",
    "    # Set y-tick to 1.\n",
    "    y_min, y_max = 0, int(np.round(np.max(signals_example[i]) / 1, 0) * 1)\n",
    "    axes[i].set_yticks(np.arange(y_min, y_max + 1, 1), np.arange(y_min, y_max + 1, 1))\n",
    "    axes[i].set_title(titles[i], pad=0)\n",
    "    axes[i].spines[['right', 'top']].set_visible(False)\n",
    "\n",
    "axes[-1].set_xlabel('Time [s]')\n",
    "fig.subplots_adjust(hspace=0.35)"
   ]
  },
  {
   "cell_type": "code",
   "execution_count": null,
   "metadata": {},
   "outputs": [],
   "source": []
  }
 ],
 "metadata": {
  "kernelspec": {
   "display_name": "tf",
   "language": "python",
   "name": "python3"
  },
  "language_info": {
   "codemirror_mode": {
    "name": "ipython",
    "version": 3
   },
   "file_extension": ".py",
   "mimetype": "text/x-python",
   "name": "python",
   "nbconvert_exporter": "python",
   "pygments_lexer": "ipython3",
   "version": "3.9.13"
  },
  "orig_nbformat": 4,
  "vscode": {
   "interpreter": {
    "hash": "ecef9f3479ecf9ceb2ca5791c50200f285db557ac3e75ea18b1853dc6e2df942"
   }
  }
 },
 "nbformat": 4,
 "nbformat_minor": 2
}
